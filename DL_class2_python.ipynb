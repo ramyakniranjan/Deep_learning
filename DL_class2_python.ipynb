{
  "nbformat": 4,
  "nbformat_minor": 0,
  "metadata": {
    "colab": {
      "provenance": [],
      "toc_visible": true,
      "authorship_tag": "ABX9TyNVqz256eMbLycFmx8XeVez",
      "include_colab_link": true
    },
    "kernelspec": {
      "name": "python3",
      "display_name": "Python 3"
    },
    "language_info": {
      "name": "python"
    }
  },
  "cells": [
    {
      "cell_type": "markdown",
      "metadata": {
        "id": "view-in-github",
        "colab_type": "text"
      },
      "source": [
        "<a href=\"https://colab.research.google.com/github/ramyakniranjan/Deep_learning/blob/main/DL_class2_python.ipynb\" target=\"_parent\"><img src=\"https://colab.research.google.com/assets/colab-badge.svg\" alt=\"Open In Colab\"/></a>"
      ]
    },
    {
      "cell_type": "code",
      "source": [
        "class Rectangle():\n",
        "  def __init__(self, width, height):\n",
        "    self.height = height\n",
        "    self.width = width"
      ],
      "metadata": {
        "id": "SOOV1aZOPr9u"
      },
      "execution_count": 156,
      "outputs": []
    },
    {
      "cell_type": "code",
      "source": [
        "r1 = Rectangle(100, 200)\n",
        "r2 = Rectangle(100, 200)"
      ],
      "metadata": {
        "id": "VpcgAqxSPvTJ"
      },
      "execution_count": 157,
      "outputs": []
    },
    {
      "cell_type": "code",
      "source": [
        "r1 == r2"
      ],
      "metadata": {
        "colab": {
          "base_uri": "https://localhost:8080/"
        },
        "id": "5hxNXMRbPzId",
        "outputId": "42b59bea-a0fc-491b-f767-aafcdc3c71b4"
      },
      "execution_count": 158,
      "outputs": [
        {
          "output_type": "execute_result",
          "data": {
            "text/plain": [
              "False"
            ]
          },
          "metadata": {},
          "execution_count": 158
        }
      ]
    },
    {
      "cell_type": "code",
      "execution_count": 159,
      "metadata": {
        "id": "iwxR6BcCKs-v"
      },
      "outputs": [],
      "source": [
        "class Rectangle():\n",
        "  def __init__(self, width, height):\n",
        "    self.height = height\n",
        "    self.width = width\n",
        "\n",
        "  def __eq__(self,other):\n",
        "    print(f\"self={self}, other={other}\")\n",
        "    if isinstance(other, Rectangle):\n",
        "      return(self.width,self.height)==(other.width,other.height)\n",
        "    else:\n",
        "      return False\n"
      ]
    },
    {
      "cell_type": "code",
      "source": [
        "r1==r2"
      ],
      "metadata": {
        "colab": {
          "base_uri": "https://localhost:8080/"
        },
        "id": "sGgAYjeTN5vc",
        "outputId": "02b281cb-669d-4c99-92b2-b991970e8025"
      },
      "execution_count": 160,
      "outputs": [
        {
          "output_type": "execute_result",
          "data": {
            "text/plain": [
              "False"
            ]
          },
          "metadata": {},
          "execution_count": 160
        }
      ]
    },
    {
      "cell_type": "code",
      "source": [
        "def avg(a, *args):\n",
        "  count = len(args) + 1\n",
        "  total = sum(args) + a\n",
        "  average = total/count\n",
        "  return (f\"The average is : {average}\")"
      ],
      "metadata": {
        "id": "vPEb1s4kOEMY"
      },
      "execution_count": 161,
      "outputs": []
    },
    {
      "cell_type": "code",
      "source": [
        "avg(1)"
      ],
      "metadata": {
        "colab": {
          "base_uri": "https://localhost:8080/",
          "height": 35
        },
        "id": "efybuiGTjJgy",
        "outputId": "c37fb013-3923-4460-c171-3f302c503cce"
      },
      "execution_count": 162,
      "outputs": [
        {
          "output_type": "execute_result",
          "data": {
            "text/plain": [
              "'The average is : 1.0'"
            ],
            "application/vnd.google.colaboratory.intrinsic+json": {
              "type": "string"
            }
          },
          "metadata": {},
          "execution_count": 162
        }
      ]
    },
    {
      "cell_type": "code",
      "source": [
        "avg(1,2,3,4,5,6)"
      ],
      "metadata": {
        "colab": {
          "base_uri": "https://localhost:8080/",
          "height": 35
        },
        "id": "nGxhysTojlQg",
        "outputId": "f9f24ba6-160c-4102-d958-05a9b904ded2"
      },
      "execution_count": 163,
      "outputs": [
        {
          "output_type": "execute_result",
          "data": {
            "text/plain": [
              "'The average is : 3.5'"
            ],
            "application/vnd.google.colaboratory.intrinsic+json": {
              "type": "string"
            }
          },
          "metadata": {},
          "execution_count": 163
        }
      ]
    },
    {
      "cell_type": "markdown",
      "source": [
        "# Passing list to function"
      ],
      "metadata": {
        "id": "wINwhe5wIAr5"
      }
    },
    {
      "cell_type": "code",
      "source": [
        "l1 = [1,2,3,4,5]"
      ],
      "metadata": {
        "id": "5O1tYTCsjsuY"
      },
      "execution_count": 164,
      "outputs": []
    },
    {
      "cell_type": "markdown",
      "source": [
        "unlisting"
      ],
      "metadata": {
        "id": "1QsxTAdFIKuL"
      }
    },
    {
      "cell_type": "code",
      "source": [
        "avg(*l1)"
      ],
      "metadata": {
        "colab": {
          "base_uri": "https://localhost:8080/",
          "height": 35
        },
        "id": "e7hJlBgqH76H",
        "outputId": "7f8eda76-6880-4712-e16e-96d19c851631"
      },
      "execution_count": 165,
      "outputs": [
        {
          "output_type": "execute_result",
          "data": {
            "text/plain": [
              "'The average is : 3.0'"
            ],
            "application/vnd.google.colaboratory.intrinsic+json": {
              "type": "string"
            }
          },
          "metadata": {},
          "execution_count": 165
        }
      ]
    },
    {
      "cell_type": "code",
      "source": [
        "def func1(a, b, *args):\n",
        "  print(a)\n",
        "  print(b)\n",
        "  print(args)"
      ],
      "metadata": {
        "id": "NYWIWiLHIH9Z"
      },
      "execution_count": 166,
      "outputs": []
    },
    {
      "cell_type": "code",
      "source": [
        "func1(1,2)"
      ],
      "metadata": {
        "colab": {
          "base_uri": "https://localhost:8080/"
        },
        "id": "3LmTNvMzIwgN",
        "outputId": "5747570f-e6da-4cc3-8937-bdf0d27d7e6f"
      },
      "execution_count": 167,
      "outputs": [
        {
          "output_type": "stream",
          "name": "stdout",
          "text": [
            "1\n",
            "2\n",
            "()\n"
          ]
        }
      ]
    },
    {
      "cell_type": "code",
      "source": [
        "func1(1,2,3,4,5,6)"
      ],
      "metadata": {
        "colab": {
          "base_uri": "https://localhost:8080/"
        },
        "id": "dm5kr_boIy70",
        "outputId": "8f2624e0-3278-4d68-d8d0-7619f2523999"
      },
      "execution_count": 168,
      "outputs": [
        {
          "output_type": "stream",
          "name": "stdout",
          "text": [
            "1\n",
            "2\n",
            "(3, 4, 5, 6)\n"
          ]
        }
      ]
    },
    {
      "cell_type": "code",
      "source": [
        "func1(a=1, b=2)"
      ],
      "metadata": {
        "colab": {
          "base_uri": "https://localhost:8080/"
        },
        "id": "zU2iNt3XJEAV",
        "outputId": "11c72cd6-cd09-4ee9-c74a-0e541ead6e02"
      },
      "execution_count": 169,
      "outputs": [
        {
          "output_type": "stream",
          "name": "stdout",
          "text": [
            "1\n",
            "2\n",
            "()\n"
          ]
        }
      ]
    },
    {
      "cell_type": "code",
      "source": [
        "def func1(a, b, *args,d):\n",
        "  print(a)\n",
        "  print(b)\n",
        "  print(args)\n",
        "  print(d)"
      ],
      "metadata": {
        "id": "_frkpMOjJNyN"
      },
      "execution_count": 170,
      "outputs": []
    },
    {
      "cell_type": "code",
      "source": [
        "func1(1,2,3,4,d=6)"
      ],
      "metadata": {
        "colab": {
          "base_uri": "https://localhost:8080/"
        },
        "id": "czWBAFEYJdrN",
        "outputId": "d65597a4-3e4e-4785-9779-9aaac0889819"
      },
      "execution_count": 171,
      "outputs": [
        {
          "output_type": "stream",
          "name": "stdout",
          "text": [
            "1\n",
            "2\n",
            "(3, 4)\n",
            "6\n"
          ]
        }
      ]
    },
    {
      "cell_type": "markdown",
      "source": [
        "positional argument, args, then keyword argument"
      ],
      "metadata": {
        "id": "FoqcO-lFKEGl"
      }
    },
    {
      "cell_type": "code",
      "source": [
        "def func1(a, b, *args,d, **kwargs):\n",
        "  print(a)\n",
        "  print(b)\n",
        "  print(args)\n",
        "  print(d)\n",
        "  print(kwargs)"
      ],
      "metadata": {
        "id": "J80nDNMfKrrt"
      },
      "execution_count": 172,
      "outputs": []
    },
    {
      "cell_type": "code",
      "source": [
        "func1(1,2,3,4,5,d=9,z=7,e=6)"
      ],
      "metadata": {
        "colab": {
          "base_uri": "https://localhost:8080/"
        },
        "id": "cFk41tfPKvGC",
        "outputId": "fe027b57-a583-4e10-a06b-561dfd7533e1"
      },
      "execution_count": 173,
      "outputs": [
        {
          "output_type": "stream",
          "name": "stdout",
          "text": [
            "1\n",
            "2\n",
            "(3, 4, 5)\n",
            "9\n",
            "{'z': 7, 'e': 6}\n"
          ]
        }
      ]
    },
    {
      "cell_type": "code",
      "source": [
        "def func1(*args, **kwargs):\n",
        "  print(a)\n",
        "  print(b)\n",
        "  print(args)\n",
        "  print(d)\n",
        "  print(kwargs)"
      ],
      "metadata": {
        "id": "njN03vekK7Jv"
      },
      "execution_count": 174,
      "outputs": []
    },
    {
      "cell_type": "code",
      "source": [
        "def func1(a,b,c,*,d):\n",
        "  print(d)"
      ],
      "metadata": {
        "id": "WFtYRIuxLKr6"
      },
      "execution_count": 175,
      "outputs": []
    },
    {
      "cell_type": "code",
      "source": [
        "func1(2,3,4,d=6)"
      ],
      "metadata": {
        "colab": {
          "base_uri": "https://localhost:8080/"
        },
        "id": "RoJjLqahLv-W",
        "outputId": "2719692c-8fed-4f8e-cab2-44edc612e054"
      },
      "execution_count": 176,
      "outputs": [
        {
          "output_type": "stream",
          "name": "stdout",
          "text": [
            "6\n"
          ]
        }
      ]
    },
    {
      "cell_type": "markdown",
      "source": [
        "# Unlisting"
      ],
      "metadata": {
        "id": "-jJIWgHVBV2t"
      }
    },
    {
      "cell_type": "code",
      "source": [
        "L1 = [10,20,30,40,50]\n",
        "a ,*b = L1\n",
        "print(a)\n",
        "print(b)"
      ],
      "metadata": {
        "id": "G-Ist32dMD8m",
        "colab": {
          "base_uri": "https://localhost:8080/"
        },
        "outputId": "d2489cdf-b021-4302-b0dc-02cf66b93b90"
      },
      "execution_count": 177,
      "outputs": [
        {
          "output_type": "stream",
          "name": "stdout",
          "text": [
            "10\n",
            "[20, 30, 40, 50]\n"
          ]
        }
      ]
    },
    {
      "cell_type": "code",
      "source": [
        "s =\"python\"\n",
        "a, *b = s\n",
        "print(a)\n",
        "print(b)"
      ],
      "metadata": {
        "colab": {
          "base_uri": "https://localhost:8080/"
        },
        "id": "nra9QnJOA4d-",
        "outputId": "63fe9185-764e-4420-c86d-825659e14240"
      },
      "execution_count": 178,
      "outputs": [
        {
          "output_type": "stream",
          "name": "stdout",
          "text": [
            "p\n",
            "['y', 't', 'h', 'o', 'n']\n"
          ]
        }
      ]
    },
    {
      "cell_type": "code",
      "source": [
        "L1 = [1,2,3]\n",
        "L2 = [4,5,6]"
      ],
      "metadata": {
        "id": "kEDs8T0xCKix"
      },
      "execution_count": 179,
      "outputs": []
    },
    {
      "cell_type": "code",
      "source": [
        "L = [*L1, *L2]\n",
        "print(L)"
      ],
      "metadata": {
        "colab": {
          "base_uri": "https://localhost:8080/"
        },
        "id": "9mWeFr2ICUUU",
        "outputId": "de8d98d5-5e9b-4454-d42a-660fee20ad3a"
      },
      "execution_count": 180,
      "outputs": [
        {
          "output_type": "stream",
          "name": "stdout",
          "text": [
            "[1, 2, 3, 4, 5, 6]\n"
          ]
        }
      ]
    },
    {
      "cell_type": "code",
      "source": [],
      "metadata": {
        "id": "dM-BnCEwCcsD"
      },
      "execution_count": 180,
      "outputs": []
    },
    {
      "cell_type": "markdown",
      "source": [
        "# Lambda"
      ],
      "metadata": {
        "id": "ZFvSzTTvEPYe"
      }
    },
    {
      "cell_type": "code",
      "source": [
        "def sq(x):\n",
        "  return x**2"
      ],
      "metadata": {
        "id": "iEF_iTdlChDK"
      },
      "execution_count": 181,
      "outputs": []
    },
    {
      "cell_type": "code",
      "source": [
        "sq(4)"
      ],
      "metadata": {
        "colab": {
          "base_uri": "https://localhost:8080/"
        },
        "id": "3fK8W52ZDrYX",
        "outputId": "b894420b-e409-46ce-dd42-3eca27876f2d"
      },
      "execution_count": 182,
      "outputs": [
        {
          "output_type": "execute_result",
          "data": {
            "text/plain": [
              "16"
            ]
          },
          "metadata": {},
          "execution_count": 182
        }
      ]
    },
    {
      "cell_type": "code",
      "source": [
        "sq1 = lambda x: x**2"
      ],
      "metadata": {
        "id": "AIn1Ejy0Dvae"
      },
      "execution_count": 183,
      "outputs": []
    },
    {
      "cell_type": "code",
      "source": [
        "sq1(4)"
      ],
      "metadata": {
        "colab": {
          "base_uri": "https://localhost:8080/"
        },
        "id": "7lK4BsNPECBD",
        "outputId": "0e38cc4e-44a1-42ae-921b-7d6e77d73198"
      },
      "execution_count": 184,
      "outputs": [
        {
          "output_type": "execute_result",
          "data": {
            "text/plain": [
              "16"
            ]
          },
          "metadata": {},
          "execution_count": 184
        }
      ]
    },
    {
      "cell_type": "code",
      "source": [
        "sum1 = lambda a,b : a + b"
      ],
      "metadata": {
        "id": "GXy38roiEFBM"
      },
      "execution_count": 185,
      "outputs": []
    },
    {
      "cell_type": "code",
      "source": [
        "sum1(3,5)"
      ],
      "metadata": {
        "colab": {
          "base_uri": "https://localhost:8080/"
        },
        "id": "y8hj0xBQEYbC",
        "outputId": "bfd1d64d-8227-48bd-a705-f2d941c36b59"
      },
      "execution_count": 186,
      "outputs": [
        {
          "output_type": "execute_result",
          "data": {
            "text/plain": [
              "8"
            ]
          },
          "metadata": {},
          "execution_count": 186
        }
      ]
    },
    {
      "cell_type": "code",
      "source": [
        "def factorial(x):\n",
        "  if x < 2:\n",
        "    return 1\n",
        "  else:\n",
        "    return x * factorial(x-1)\n"
      ],
      "metadata": {
        "id": "ZYbVTkhHEaWW"
      },
      "execution_count": 187,
      "outputs": []
    },
    {
      "cell_type": "code",
      "source": [
        "factorial(6)"
      ],
      "metadata": {
        "colab": {
          "base_uri": "https://localhost:8080/"
        },
        "id": "cw21f3E4FfWS",
        "outputId": "ea3e94c0-23f9-4597-b624-a305e8b13b8c"
      },
      "execution_count": 188,
      "outputs": [
        {
          "output_type": "execute_result",
          "data": {
            "text/plain": [
              "720"
            ]
          },
          "metadata": {},
          "execution_count": 188
        }
      ]
    },
    {
      "cell_type": "code",
      "source": [
        "fact = lambda x : x * fact(x-1) if x>=2 else 1"
      ],
      "metadata": {
        "id": "MeFy_axMFmep"
      },
      "execution_count": 189,
      "outputs": []
    },
    {
      "cell_type": "code",
      "source": [
        "fact(4)"
      ],
      "metadata": {
        "colab": {
          "base_uri": "https://localhost:8080/"
        },
        "id": "puNTEeWjGJKL",
        "outputId": "3939867a-2b64-4c33-ba7d-598b637fb75d"
      },
      "execution_count": 190,
      "outputs": [
        {
          "output_type": "execute_result",
          "data": {
            "text/plain": [
              "24"
            ]
          },
          "metadata": {},
          "execution_count": 190
        }
      ]
    },
    {
      "cell_type": "markdown",
      "source": [
        "# map function"
      ],
      "metadata": {
        "id": "Cki2bXgJGWk2"
      }
    },
    {
      "cell_type": "code",
      "source": [
        "map(fact, [1,2,3,4,5])"
      ],
      "metadata": {
        "colab": {
          "base_uri": "https://localhost:8080/"
        },
        "id": "FbIleTqCGKUX",
        "outputId": "7847ac9b-d4fc-46dc-e47c-474042dd8370"
      },
      "execution_count": 191,
      "outputs": [
        {
          "output_type": "execute_result",
          "data": {
            "text/plain": [
              "<map at 0x7e5e66358100>"
            ]
          },
          "metadata": {},
          "execution_count": 191
        }
      ]
    },
    {
      "cell_type": "code",
      "source": [
        "results = map(fact, [1,2,3,4,5])"
      ],
      "metadata": {
        "id": "eBk6eH9hGhyd"
      },
      "execution_count": 192,
      "outputs": []
    },
    {
      "cell_type": "code",
      "source": [
        "print(results)"
      ],
      "metadata": {
        "colab": {
          "base_uri": "https://localhost:8080/"
        },
        "id": "9xI0oy0KHZEf",
        "outputId": "4febede6-0a91-47f4-fd85-b86e32cf3fdd"
      },
      "execution_count": 193,
      "outputs": [
        {
          "output_type": "stream",
          "name": "stdout",
          "text": [
            "<map object at 0x7e5e6635ac20>\n"
          ]
        }
      ]
    },
    {
      "cell_type": "code",
      "source": [
        "for i in results:\n",
        "  print(i)"
      ],
      "metadata": {
        "colab": {
          "base_uri": "https://localhost:8080/"
        },
        "id": "eAYG7MP5HcMK",
        "outputId": "3b6c52b6-d66c-46c6-adf0-f48969f198ea"
      },
      "execution_count": 194,
      "outputs": [
        {
          "output_type": "stream",
          "name": "stdout",
          "text": [
            "1\n",
            "2\n",
            "6\n",
            "24\n",
            "120\n"
          ]
        }
      ]
    },
    {
      "cell_type": "code",
      "source": [
        "l1 = [1,2,3]\n",
        "l2 = [2,3,4]\n",
        "rs = map(lambda x,y : x+y, l1,l2)"
      ],
      "metadata": {
        "id": "jpw_GXdLHgxQ"
      },
      "execution_count": 195,
      "outputs": []
    },
    {
      "cell_type": "code",
      "source": [
        "# next(rs)"
      ],
      "metadata": {
        "id": "CHp-5jrQNgkP"
      },
      "execution_count": 196,
      "outputs": []
    },
    {
      "cell_type": "code",
      "source": [
        "list(rs)"
      ],
      "metadata": {
        "colab": {
          "base_uri": "https://localhost:8080/"
        },
        "id": "T_-4w1kRL-c2",
        "outputId": "f0ab7fbc-0635-4052-f96f-e718d0ecd07d"
      },
      "execution_count": 197,
      "outputs": [
        {
          "output_type": "execute_result",
          "data": {
            "text/plain": [
              "[3, 5, 7]"
            ]
          },
          "metadata": {},
          "execution_count": 197
        }
      ]
    },
    {
      "cell_type": "code",
      "source": [
        "for i in rs:\n",
        "  print(i)\n",
        "\n",
        "# since these are lazy iterators, when output is run once iterators are already exhausted therefore no output is given when run twice"
      ],
      "metadata": {
        "id": "IpHyGScrMHFP"
      },
      "execution_count": 198,
      "outputs": []
    },
    {
      "cell_type": "markdown",
      "source": [
        "# Zip function"
      ],
      "metadata": {
        "id": "QwYCrg87OVJm"
      }
    },
    {
      "cell_type": "markdown",
      "source": [
        "gives a tuple as output with elements of the consecutive lists"
      ],
      "metadata": {
        "id": "PVpueEcnOwMM"
      }
    },
    {
      "cell_type": "code",
      "source": [
        "result = zip(range(1000),\"python\")"
      ],
      "metadata": {
        "id": "63S1jmAzMkjH"
      },
      "execution_count": 199,
      "outputs": []
    },
    {
      "cell_type": "code",
      "source": [
        "for i in result:\n",
        "   print(i)"
      ],
      "metadata": {
        "colab": {
          "base_uri": "https://localhost:8080/"
        },
        "id": "J9NjwJeeNa2k",
        "outputId": "f306dad1-73f3-419c-a19b-ee3088539c6e"
      },
      "execution_count": 200,
      "outputs": [
        {
          "output_type": "stream",
          "name": "stdout",
          "text": [
            "(0, 'p')\n",
            "(1, 'y')\n",
            "(2, 't')\n",
            "(3, 'h')\n",
            "(4, 'o')\n",
            "(5, 'n')\n"
          ]
        }
      ]
    },
    {
      "cell_type": "code",
      "source": [
        "l1 = [1,2,3,4]\n",
        "l2 = [10,20,30,40]\n",
        "c = \"python\"\n",
        "result = zip(l1,l2,c)\n",
        "for i in result:\n",
        "  print(i)"
      ],
      "metadata": {
        "colab": {
          "base_uri": "https://localhost:8080/"
        },
        "id": "8vVaHdKJOmqm",
        "outputId": "d8c2a7f7-9dd2-46b0-f19c-7d6d9ea39498"
      },
      "execution_count": 201,
      "outputs": [
        {
          "output_type": "stream",
          "name": "stdout",
          "text": [
            "(1, 10, 'p')\n",
            "(2, 20, 'y')\n",
            "(3, 30, 't')\n",
            "(4, 40, 'h')\n"
          ]
        }
      ]
    },
    {
      "cell_type": "markdown",
      "source": [
        "# Filter"
      ],
      "metadata": {
        "id": "pY-T7588XS68"
      }
    },
    {
      "cell_type": "code",
      "source": [
        "result = filter(lambda x:x%2==0, map(lambda x,y: x+y, l1,l2))"
      ],
      "metadata": {
        "id": "jZNez3D4XBoH"
      },
      "execution_count": 202,
      "outputs": []
    },
    {
      "cell_type": "code",
      "source": [
        "list(result)"
      ],
      "metadata": {
        "colab": {
          "base_uri": "https://localhost:8080/"
        },
        "id": "h9PtKcmAXqdk",
        "outputId": "8730f12f-0d2d-4f7d-815f-1352ae7b8eab"
      },
      "execution_count": 203,
      "outputs": [
        {
          "output_type": "execute_result",
          "data": {
            "text/plain": [
              "[22, 44]"
            ]
          },
          "metadata": {},
          "execution_count": 203
        }
      ]
    },
    {
      "cell_type": "markdown",
      "source": [
        "# List Comprehension"
      ],
      "metadata": {
        "id": "RO01y5hdX25b"
      }
    },
    {
      "cell_type": "code",
      "source": [
        "fruits =[\"apple\",\"mango\", \"banana\", \"orange\",\"kiwi\"]"
      ],
      "metadata": {
        "id": "Epu2dABtXu_M"
      },
      "execution_count": 204,
      "outputs": []
    },
    {
      "cell_type": "code",
      "source": [
        "newlist= []\n",
        "for i in fruits:\n",
        "  if \"a\" in i:\n",
        "    newlist.append(i)"
      ],
      "metadata": {
        "id": "sp6EamcJdccO"
      },
      "execution_count": 205,
      "outputs": []
    },
    {
      "cell_type": "code",
      "source": [
        "newlist"
      ],
      "metadata": {
        "colab": {
          "base_uri": "https://localhost:8080/"
        },
        "id": "x_R5xxBdd3Az",
        "outputId": "a0ddd98c-bfad-434a-858f-686d4aeb2397"
      },
      "execution_count": 206,
      "outputs": [
        {
          "output_type": "execute_result",
          "data": {
            "text/plain": [
              "['apple', 'mango', 'banana', 'orange']"
            ]
          },
          "metadata": {},
          "execution_count": 206
        }
      ]
    },
    {
      "cell_type": "code",
      "source": [
        "newlist=[]\n",
        "newlist= [x for x in fruits if \"o\" in x]"
      ],
      "metadata": {
        "id": "N6K-pPktd8a_"
      },
      "execution_count": 207,
      "outputs": []
    },
    {
      "cell_type": "code",
      "source": [
        "newlist"
      ],
      "metadata": {
        "colab": {
          "base_uri": "https://localhost:8080/"
        },
        "id": "SajJa0mpeSkZ",
        "outputId": "e75aab80-cff0-4a52-c954-b8b232960255"
      },
      "execution_count": 208,
      "outputs": [
        {
          "output_type": "execute_result",
          "data": {
            "text/plain": [
              "['mango', 'orange']"
            ]
          },
          "metadata": {},
          "execution_count": 208
        }
      ]
    },
    {
      "cell_type": "markdown",
      "source": [
        "# Iterables"
      ],
      "metadata": {
        "id": "Ay22xw57elJB"
      }
    },
    {
      "cell_type": "code",
      "source": [
        "class Squares:\n",
        "  def __init__(self, length):\n",
        "    self.length=length\n",
        "    self.i = 0\n",
        "\n",
        "  def __next__(self):\n",
        "    if self.i>=self.length:\n",
        "      raise StopIteration\n",
        "    else:\n",
        "      result = self.i**2\n",
        "      self.i+=1\n",
        "      return result\n",
        "\n",
        "  def __len__(self):\n",
        "    return self.length\n",
        "\n",
        "\n"
      ],
      "metadata": {
        "id": "t4Ycb_96eXix"
      },
      "execution_count": 209,
      "outputs": []
    },
    {
      "cell_type": "code",
      "source": [
        "Sq = Squares(5)"
      ],
      "metadata": {
        "id": "Cizk_qo0fqNY"
      },
      "execution_count": 210,
      "outputs": []
    },
    {
      "cell_type": "code",
      "source": [
        "next(Sq)"
      ],
      "metadata": {
        "colab": {
          "base_uri": "https://localhost:8080/"
        },
        "id": "UYPrcpG2gxDh",
        "outputId": "549bf942-3211-4d31-bdd8-052b159ce03d"
      },
      "execution_count": 211,
      "outputs": [
        {
          "output_type": "execute_result",
          "data": {
            "text/plain": [
              "0"
            ]
          },
          "metadata": {},
          "execution_count": 211
        }
      ]
    },
    {
      "cell_type": "code",
      "source": [
        "len(Sq)"
      ],
      "metadata": {
        "colab": {
          "base_uri": "https://localhost:8080/"
        },
        "id": "5LaHUa7ngyms",
        "outputId": "0d953648-b657-4007-c31e-f5b848cec406"
      },
      "execution_count": 212,
      "outputs": [
        {
          "output_type": "execute_result",
          "data": {
            "text/plain": [
              "5"
            ]
          },
          "metadata": {},
          "execution_count": 212
        }
      ]
    },
    {
      "cell_type": "code",
      "source": [
        "class Cities:\n",
        "  def __init__(self):\n",
        "    self._cities = [\"Bengaluru\",\"Delhi\",\"Mumbai\",\"Chennai\",\"Kolkatta\"]\n",
        "\n",
        "  def __len__(self):\n",
        "    return len(self._cities)"
      ],
      "metadata": {
        "id": "oki0qNmAhFbX"
      },
      "execution_count": 213,
      "outputs": []
    },
    {
      "cell_type": "code",
      "source": [
        "ct = Cities()"
      ],
      "metadata": {
        "id": "-lG8QVj9hy2x"
      },
      "execution_count": 214,
      "outputs": []
    },
    {
      "cell_type": "code",
      "source": [
        "class CityIterator():\n",
        "  def __init__(self, city_obj):\n",
        "    self._city_obj= city_obj\n",
        "    self._index=0\n",
        "\n",
        "  def __len__(self):\n",
        "    return len(self._city_obj)\n",
        "  def __getitem__(self, idx):\n",
        "    return self._city_obj._cities[idx]\n"
      ],
      "metadata": {
        "id": "M9kaKZXZiC7m"
      },
      "execution_count": 215,
      "outputs": []
    },
    {
      "cell_type": "code",
      "source": [
        "itr1 = CityIterator(ct)"
      ],
      "metadata": {
        "id": "J7uWR6fOjPbf"
      },
      "execution_count": 216,
      "outputs": []
    },
    {
      "cell_type": "code",
      "source": [
        "itr1[0]"
      ],
      "metadata": {
        "colab": {
          "base_uri": "https://localhost:8080/",
          "height": 35
        },
        "id": "HeA4bEEWksYb",
        "outputId": "eed2f4f2-6ae3-47d7-aaa9-a89288bdafc3"
      },
      "execution_count": 217,
      "outputs": [
        {
          "output_type": "execute_result",
          "data": {
            "text/plain": [
              "'Bengaluru'"
            ],
            "application/vnd.google.colaboratory.intrinsic+json": {
              "type": "string"
            }
          },
          "metadata": {},
          "execution_count": 217
        }
      ]
    },
    {
      "cell_type": "code",
      "source": [
        "for i in itr1:\n",
        "  print(i)"
      ],
      "metadata": {
        "colab": {
          "base_uri": "https://localhost:8080/"
        },
        "id": "NgLujcDTk0F3",
        "outputId": "39ebdddb-91f8-4e0c-86c1-21691ed79567"
      },
      "execution_count": 218,
      "outputs": [
        {
          "output_type": "stream",
          "name": "stdout",
          "text": [
            "Bengaluru\n",
            "Delhi\n",
            "Mumbai\n",
            "Chennai\n",
            "Kolkatta\n"
          ]
        }
      ]
    },
    {
      "cell_type": "markdown",
      "source": [
        "# Assignment:"
      ],
      "metadata": {
        "id": "_z0exuQ_01aS"
      }
    },
    {
      "cell_type": "code",
      "source": [],
      "metadata": {
        "id": "iBOxwQ_dlNBr"
      },
      "execution_count": 218,
      "outputs": []
    },
    {
      "cell_type": "markdown",
      "source": [
        "\n",
        "\n",
        "Using list comprehension (and zip/lambda/etc if required) write an expression that:\n",
        "\n",
        "    • add 2 iterables a and b such that a is even and b is odd\n",
        "    • strips every vowel from a string provided (Analytix>>n | y t x)\n",
        "    • acts like a ReLU function for a 1D array\n",
        "    • acts like a sigmoid function for a 1D array\n",
        "    • takes a small character string and shifts all characters by 5 (handle boundary conditions)\n",
        "    python>> udymts"
      ],
      "metadata": {
        "id": "RwvL21cymDpP"
      }
    },
    {
      "cell_type": "markdown",
      "source": [
        "1. Add 2 iterables a and b such that a is even\n",
        "and b is odd."
      ],
      "metadata": {
        "id": "ODLOCq8DoPPM"
      }
    },
    {
      "cell_type": "code",
      "source": [
        "l1 =[1,2,3,4]\n",
        "l2 =[4,5,6,7]\n",
        "\n",
        "result = [x+y for x,y in zip(l1,l2) if x%2==0 and y%2!=0]"
      ],
      "metadata": {
        "id": "KxucA3XLoOqq"
      },
      "execution_count": 219,
      "outputs": []
    },
    {
      "cell_type": "code",
      "source": [
        "result"
      ],
      "metadata": {
        "colab": {
          "base_uri": "https://localhost:8080/"
        },
        "id": "LWMSvkV31TRv",
        "outputId": "f41fa266-9443-4810-8d1c-7532c02a9f27"
      },
      "execution_count": 220,
      "outputs": [
        {
          "output_type": "execute_result",
          "data": {
            "text/plain": [
              "[7, 11]"
            ]
          },
          "metadata": {},
          "execution_count": 220
        }
      ]
    },
    {
      "cell_type": "markdown",
      "source": [
        "2. strips every vowel from a string provided (Analytix>>n | y t x)"
      ],
      "metadata": {
        "id": "f61mZQ5BoWNI"
      }
    },
    {
      "cell_type": "code",
      "source": [
        "text = \"(Analytix>>n | y t x)\"\n",
        "strip_vowels = [x for x in text if x not in \"aeiouAEIOU\"]"
      ],
      "metadata": {
        "id": "QMjE66QvmOTx"
      },
      "execution_count": 221,
      "outputs": []
    },
    {
      "cell_type": "code",
      "source": [
        "strip_vowels"
      ],
      "metadata": {
        "colab": {
          "base_uri": "https://localhost:8080/"
        },
        "id": "qVlZbujomk7R",
        "outputId": "765b169c-b8df-4dd6-eca4-343b4e075adc"
      },
      "execution_count": 222,
      "outputs": [
        {
          "output_type": "execute_result",
          "data": {
            "text/plain": [
              "['(',\n",
              " 'n',\n",
              " 'l',\n",
              " 'y',\n",
              " 't',\n",
              " 'x',\n",
              " '>',\n",
              " '>',\n",
              " 'n',\n",
              " ' ',\n",
              " '|',\n",
              " ' ',\n",
              " 'y',\n",
              " ' ',\n",
              " 't',\n",
              " ' ',\n",
              " 'x',\n",
              " ')']"
            ]
          },
          "metadata": {},
          "execution_count": 222
        }
      ]
    },
    {
      "cell_type": "markdown",
      "source": [
        "3. acts like a ReLU function for a 1D array"
      ],
      "metadata": {
        "id": "_aMmipja2eK-"
      }
    },
    {
      "cell_type": "code",
      "source": [
        "relu = [1,2,3,-1,-7]\n",
        "\n",
        "result = [x for x in map(lambda x : 0 if x<=0 else x , relu)]\n",
        "result"
      ],
      "metadata": {
        "colab": {
          "base_uri": "https://localhost:8080/"
        },
        "id": "Awvgtxkfn2_P",
        "outputId": "a0043521-cb8c-47de-aa57-0d897763ccc7"
      },
      "execution_count": 223,
      "outputs": [
        {
          "output_type": "execute_result",
          "data": {
            "text/plain": [
              "[1, 2, 3, 0, 0]"
            ]
          },
          "metadata": {},
          "execution_count": 223
        }
      ]
    },
    {
      "cell_type": "code",
      "source": [
        "result = [0 if x <= 0 else x for x in relu]"
      ],
      "metadata": {
        "id": "Zwr2uhv24E3h"
      },
      "execution_count": 224,
      "outputs": []
    },
    {
      "cell_type": "markdown",
      "source": [
        "4. acts like a sigmoid function for a 1D array"
      ],
      "metadata": {
        "id": "-Sbo425tC-dA"
      }
    },
    {
      "cell_type": "code",
      "source": [
        "l1 = [3,5,-4,8,2]\n",
        "sigmoid = [1/(1+(2.718281828459045)**-x) for x in l1]\n",
        "sigmoid"
      ],
      "metadata": {
        "colab": {
          "base_uri": "https://localhost:8080/"
        },
        "id": "urlUJdjjCl-Z",
        "outputId": "1ee8e5f2-6713-4abd-acf8-a5fa24ed2c09"
      },
      "execution_count": 225,
      "outputs": [
        {
          "output_type": "execute_result",
          "data": {
            "text/plain": [
              "[0.9525741268224331,\n",
              " 0.9933071490757153,\n",
              " 0.017986209962091562,\n",
              " 0.9996646498695336,\n",
              " 0.8807970779778823]"
            ]
          },
          "metadata": {},
          "execution_count": 225
        }
      ]
    },
    {
      "cell_type": "markdown",
      "source": [
        "5. takes a small character string and shifts all characters by 5 (handle boundary conditions)\n",
        "python>> udymts"
      ],
      "metadata": {
        "id": "vi9VRTfsD9Sh"
      }
    },
    {
      "cell_type": "code",
      "source": [],
      "metadata": {
        "id": "MRlLmBY9IGIp"
      },
      "execution_count": 225,
      "outputs": []
    },
    {
      "cell_type": "code",
      "source": [
        "text = \"Python\"\n",
        "reversed_text=[]\n",
        "result =''.join([\n",
        "    chr((ord(x)+5-ord(\"a\"))%26+ord(\"a\")) if x.islower() else chr((ord(x)+5-ord(\"A\"))%26+ord(\"A\"))\n",
        "    for x in text\n",
        "])\n",
        "result"
      ],
      "metadata": {
        "colab": {
          "base_uri": "https://localhost:8080/",
          "height": 35
        },
        "id": "u7WYO8b9DsCR",
        "outputId": "19db2018-ac8f-4b99-9d71-14f80e995b35"
      },
      "execution_count": 226,
      "outputs": [
        {
          "output_type": "execute_result",
          "data": {
            "text/plain": [
              "'Udymts'"
            ],
            "application/vnd.google.colaboratory.intrinsic+json": {
              "type": "string"
            }
          },
          "metadata": {},
          "execution_count": 226
        }
      ]
    },
    {
      "cell_type": "code",
      "source": [],
      "metadata": {
        "id": "Z0RMxxypEwA5"
      },
      "execution_count": 226,
      "outputs": []
    }
  ]
}